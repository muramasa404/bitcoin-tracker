{
 "cells": [
  {
   "cell_type": "code",
   "execution_count": null,
   "id": "e1a28179-2216-41ba-8776-212abcb386ec",
   "metadata": {},
   "outputs": [],
   "source": [
    "import pandas as pd\n",
    "import matplotlib.pyplot as plt\n",
    "import seaborn as sns\n",
    "\n",
    "# Seaborn 스타일 설정\n",
    "sns.set_style(\"whitegrid\")\n",
    "\n",
    "# 데이터 불러오기\n",
    "df = pd.read_csv(\"../data/processed/bybit_preprocessed.csv\")\n",
    "df[\"timestamp\"] = pd.to_datetime(df[\"timestamp\"])\n",
    "\n",
    "# 차트 그리기\n",
    "plt.figure(figsize=(12, 6))\n",
    "plt.plot(df[\"timestamp\"], df[\"close\"], label=\"Close Price\", color=\"blue\")\n",
    "plt.xlabel(\"Date\")\n",
    "plt.ylabel(\"Price (USDT)\")\n",
    "plt.title(\"Bitcoin Price Over Time\")\n",
    "plt.legend()\n",
    "plt.show()"
   ]
  }
 ],
 "metadata": {
  "kernelspec": {
   "display_name": "Python 3 (ipykernel)",
   "language": "python",
   "name": "python3"
  },
  "language_info": {
   "codemirror_mode": {
    "name": "ipython",
    "version": 3
   },
   "file_extension": ".py",
   "mimetype": "text/x-python",
   "name": "python",
   "nbconvert_exporter": "python",
   "pygments_lexer": "ipython3",
   "version": "3.12.4"
  }
 },
 "nbformat": 4,
 "nbformat_minor": 5
}
